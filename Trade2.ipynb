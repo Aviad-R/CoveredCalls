{
 "cells": [
  {
   "cell_type": "markdown",
   "metadata": {},
   "source": [
    "### Import Libraries"
   ]
  },
  {
   "cell_type": "code",
   "execution_count": null,
   "metadata": {},
   "outputs": [],
   "source": [
    "import tda\n",
    "import pandas as pd\n",
    "import json\n",
    "import datetime\n",
    "import httpx\n",
    "import math\n",
    "import time\n",
    "import random\n",
    "\n",
    "from tqdm.notebook import tqdm, trange"
   ]
  },
  {
   "cell_type": "markdown",
   "metadata": {},
   "source": [
    "### Get Date"
   ]
  },
  {
   "cell_type": "code",
   "execution_count": null,
   "metadata": {},
   "outputs": [],
   "source": [
    "now = datetime.datetime.now()\n",
    "yesterday = (now - datetime.timedelta(days = 1)).strftime('%Y%m%d')\n",
    "today = (now).strftime('%Y%m%d')\n",
    "\n",
    "current_month = now.month\n",
    "current_year = now.year\n",
    "\n",
    "print('Today:\\t\\t', today)\n",
    "print('Yesterday:\\t', yesterday)\n",
    "print('Month:\\t\\t', current_month)\n",
    "print('Year:\\t\\t', current_year)"
   ]
  },
  {
   "cell_type": "markdown",
   "metadata": {},
   "source": [
    "### Create Client"
   ]
  },
  {
   "cell_type": "code",
   "execution_count": null,
   "metadata": {},
   "outputs": [],
   "source": [
    "#read file with username, pass, server\n",
    "with open('tda.json') as f:\n",
    "    data = json.load(f)\n",
    "\n",
    "API_KEY = data['api_key']\n",
    "REDIRECT_URI = data['redirect_uri']\n",
    "TOKEN_PATH = data['token_path']\n",
    "\n",
    "def make_webdriver():\n",
    "    # Import selenium here because it's slow to import\n",
    "    from selenium import webdriver\n",
    "    import atexit\n",
    "\n",
    "    driver = webdriver.Chrome()\n",
    "    atexit.register(lambda: driver.quit())\n",
    "    return driver\n",
    "\n",
    "\n",
    "# Create a new client\n",
    "client = tda.auth.easy_client(\n",
    "    API_KEY,\n",
    "    REDIRECT_URI,\n",
    "    TOKEN_PATH,\n",
    "    make_webdriver)"
   ]
  },
  {
   "cell_type": "code",
   "execution_count": null,
   "metadata": {},
   "outputs": [],
   "source": [
    "# Load S&P 500 composition from documentation\n",
    "SP500_URL = \"https://tda-api.readthedocs.io/en/latest/_static/sp500.txt\"\n",
    "sp500 = httpx.get(\n",
    "    SP500_URL, headers={\n",
    "        \"User-Agent\": \"Mozilla/5.0\"}).read().decode().split()\n",
    "\n",
    "#symbols no longer in SP500\n",
    "sp500.remove('AGN')\n",
    "sp500.append('FAS')\n",
    "sp500.append('GDRX')"
   ]
  },
  {
   "cell_type": "code",
   "execution_count": null,
   "metadata": {},
   "outputs": [],
   "source": [
    "#create empty df\n",
    "d = {'Symbol':[],\n",
    "     'Name':[],\n",
    "     'divDate':[],\n",
    "     'divAmount':[],\n",
    "     'divYield':[],\n",
    "     'closePrice':[],\n",
    "     'lastPrice':[],\n",
    "     'expDate1':[],\n",
    "     'daysUnitlExp1':[],\n",
    "     'strikePrice1':[],\n",
    "     'callPremium':[]}\n",
    "df = pd.DataFrame(data = d)\n",
    "\n",
    "df"
   ]
  },
  {
   "cell_type": "code",
   "execution_count": null,
   "metadata": {},
   "outputs": [],
   "source": [
    "def get_standard_quote(symb):\n",
    "    symb = symb.upper()\n",
    "    #get quote\n",
    "    resp = client.get_quote(symb)\n",
    "    assert resp.status_code == 200, resp.raise_for_status()\n",
    "    \n",
    "    return resp.json()\n",
    "\n",
    "def get_call_chain(symb):\n",
    "    resp = client.get_option_chain(symb,\n",
    "                                   contract_type = tda.client.Client.Options.ContractType.CALL,\n",
    "                                   strike_range = tda.client.Client.Options.StrikeRange.OUT_OF_THE_MONEY,\n",
    "                                   strike_count = 5,\n",
    "                                   from_date = div_date,\n",
    "                                   to_date = div_date + datetime.timedelta(days = 30)\n",
    "                                    )\n",
    "    assert resp.status_code == 200, resp.raise_for_status()\n",
    "    \n",
    "    return resp.json()\n",
    "\n",
    "def myround5(x, base=5):\n",
    "    return base * math.ceil(x/base)\n",
    "\n",
    "def myround10(x, base=10):\n",
    "    return base * math.ceil(x/base)"
   ]
  },
  {
   "cell_type": "code",
   "execution_count": null,
   "metadata": {},
   "outputs": [],
   "source": [
    "p_bar = tqdm(sp500)\n",
    "\n",
    "for x in p_bar:\n",
    "    p_bar.set_description(f'Working on \"{x}\"')\n",
    "    \n",
    "    std_resp_json = get_standard_quote(x)\n",
    "    exp_date1 = None\n",
    "    strike_price1 = None\n",
    "    call_premium = None\n",
    "    days_until_exp1 = None\n",
    "    \n",
    "    if len(std_resp_json) > 0:\n",
    "        div_amount = std_resp_json[x]['divAmount']/4\n",
    "        div_yield = std_resp_json[x]['divYield']\n",
    "        div_date = std_resp_json[x]['divDate']\n",
    "        close_price = std_resp_json[x]['closePrice']\n",
    "        last_price = std_resp_json[x]['lastPrice']\n",
    "        name = std_resp_json[x]['description']\n",
    "        \n",
    "        #get option chain if company pays dividend\n",
    "        if div_amount > 0:\n",
    "            #convert div_date to datetime\n",
    "            div_date = datetime.datetime.fromisoformat(std_resp_json[x]['divDate'])\n",
    "            time.sleep(random.randrange(3))\n",
    "            \n",
    "            #only look for option chains with div date in the future\n",
    "            if div_date > now:\n",
    "                call_resp_json = get_call_chain(x)\n",
    "                \n",
    "                if call_resp_json['status'] == 'SUCCESS':\n",
    "\n",
    "                    #list of expirations\n",
    "                    exp_date_list = [a for a in call_resp_json['callExpDateMap'].keys()]\n",
    "\n",
    "                    exp_date1a = exp_date_list[0]\n",
    "                    exp_date1b = exp_date_list[0].split(':')[0]\n",
    "                    days_until_exp1 = exp_date_list[0].split(':')[1]\n",
    "\n",
    "                    str_price_list = [float(str_pr) for str_pr in call_resp_json['callExpDateMap'][exp_date1a].keys()]\n",
    "                    for i, j in enumerate(str_price_list):\n",
    "                        if j > last_price:\n",
    "                            strike_price1 = j\n",
    "                            break\n",
    "\n",
    "                    try:\n",
    "                        call_premium = call_resp_json['callExpDateMap'][exp_date1a][str(strike_price1)][0]['bid']\n",
    "                    except KeyError:\n",
    "                        pass\n",
    "        \n",
    "    symb_div = {'Symbol':x,\n",
    "                'Name':name,\n",
    "                'divDate':div_date,\n",
    "                'divAmount':div_amount,\n",
    "                'divYield':div_yield,\n",
    "                'closePrice':close_price,\n",
    "                'lastPrice':last_price,\n",
    "                'expDate1':exp_date1b,\n",
    "                'daysUnitlExp1':days_until_exp1,\n",
    "                'strikePrice1':strike_price1,\n",
    "                'callPremium':call_premium\n",
    "               }\n",
    "\n",
    "    symb_df = pd.DataFrame.from_dict(symb_div, orient = 'index').T\n",
    "        \n",
    "    df = pd.concat([df,symb_df])"
   ]
  },
  {
   "cell_type": "code",
   "execution_count": null,
   "metadata": {},
   "outputs": [],
   "source": [
    "df.sample(5)"
   ]
  },
  {
   "cell_type": "code",
   "execution_count": null,
   "metadata": {},
   "outputs": [],
   "source": [
    "#convert data types\n",
    "df['divDate'] = pd.to_datetime(df['divDate'])\n",
    "df['expDate1'] = pd.to_datetime(df['expDate1'])\n",
    "df['divAmount'] = df['divAmount'].astype(float)\n",
    "df['lastPrice'] = df['lastPrice'].astype(float)\n",
    "df['daysUnitlExp1'] = df['daysUnitlExp1'].astype(float)\n",
    "df['strikePrice1'] = df['strikePrice1'].astype(float)\n",
    "df['callPremium'] = df['callPremium'].astype(float)\n",
    "\n",
    "#calculate cols\n",
    "df['potentialGainCallExecuted'] = (df['divAmount'] + df['callPremium'] + (df['strikePrice1'] - df['lastPrice'])) * 100\n",
    "df['cost'] = (df['lastPrice'] - df['callPremium']) * 100\n",
    "\n",
    "#return call executed\n",
    "df['returnCallExecuted'] = df['potentialGainCallExecuted'] / df['cost']\n",
    "df['annualizedReturnCallExecuted'] = (365/df['daysUnitlExp1']) * df['returnCallExecuted']\n",
    "\n",
    "#return call not executed and stock does not change\n",
    "df['returnCallNotExecuted'] = (df['divAmount'] + df['callPremium']) * 100 / df['cost']\n",
    "df['annualizedReturnCallNotExecuted'] = (365/df['daysUnitlExp1']) * df['returnCallNotExecuted']\n",
    "\n",
    "#break even\n",
    "df['breakEven'] = (df['cost'] - (df['divAmount']*100))/100\n",
    "\n",
    "df.reset_index(inplace = True, drop = True)\n",
    "df.info()"
   ]
  },
  {
   "cell_type": "code",
   "execution_count": null,
   "metadata": {},
   "outputs": [],
   "source": [
    "#df_div = df[~df['expDate1'].isna()]\n",
    "df_div = df[df['divAmount'] > 0]\n",
    "df_covered_call = df[df['strikePrice1'] > 0]\n",
    "\n",
    "#export to excel\n",
    "df_div.to_excel('Output/DividendStocks_' + today + '.xlsx', index = False)\n",
    "df_covered_call.to_excel('Output/CoveredCalls_' + today + '.xlsx', index = False)\n",
    "df_div.head()"
   ]
  }
 ],
 "metadata": {
  "kernelspec": {
   "display_name": "Python 3",
   "language": "python",
   "name": "python3"
  },
  "language_info": {
   "codemirror_mode": {
    "name": "ipython",
    "version": 3
   },
   "file_extension": ".py",
   "mimetype": "text/x-python",
   "name": "python",
   "nbconvert_exporter": "python",
   "pygments_lexer": "ipython3",
   "version": "3.7.3"
  }
 },
 "nbformat": 4,
 "nbformat_minor": 4
}
